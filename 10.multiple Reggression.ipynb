{
 "cells": [
  {
   "cell_type": "code",
   "execution_count": 3,
   "metadata": {},
   "outputs": [
    {
     "name": "stdout",
     "output_type": "stream",
     "text": [
      "(150, 4)\n",
      "(150, 4)\n",
      "0.06325336904344213\n",
      "0.8886123598795971\n",
      "Multiple Linear Regression MSE: 0.037113794407976845\n"
     ]
    }
   ],
   "source": [
    "from sklearn.datasets import  load_iris\n",
    "import numpy as np\n",
    "# dataset=load_iris()\n",
    "x,y =load_iris(return_X_y=True)\n",
    "print(x.shape)\n",
    "print(x.shape)\n",
    "#spliting\n",
    "from sklearn.model_selection import train_test_split\n",
    "x_train,x_test,y_train,y_test=train_test_split(x,y,test_size=0.25,random_state=0)\n",
    "from sklearn.linear_model import LinearRegression as LR\n",
    "reg = LR()\n",
    "reg.fit(x_train,y_train)\n",
    "p = reg.predict(x_test)\n",
    "from sklearn.metrics import mean_squared_error as MSE ,r2_score as R2S\n",
    "a = MSE(y_test,p)\n",
    "b = R2S(y_test,p)\n",
    "print(a)\n",
    "print(b)\n",
    "\n",
    "import numpy as np \n",
    "import pandas as pd \n",
    "from sklearn.datasets import load_iris \n",
    "from sklearn.model_selection import train_test_split \n",
    "from sklearn.linear_model import LinearRegression \n",
    "from sklearn.metrics import mean_squared_error \n",
    "data = load_iris() \n",
    "X = data.data \n",
    "y = data.target \n",
    "X_train, X_test, y_train, y_test = train_test_split(X, y, test_size=0.2, random_state=42)\n",
    "mlr_model = LinearRegression()\n",
    "mlr_model.fit(X_train, y_train)\n",
    "mlr_predictions = mlr_model.predict(X_test)\n",
    "mlr_mse = mean_squared_error(y_test, mlr_predictions)\n",
    "print(f'Multiple Linear Regression MSE: {mlr_mse}')\n",
    "\n",
    "\n",
    "\n",
    "\n"
   ]
  },
  {
   "cell_type": "code",
   "execution_count": null,
   "metadata": {
    "collapsed": true
   },
   "outputs": [],
   "source": []
  }
 ],
 "metadata": {
  "kernelspec": {
   "display_name": "Python 3 (ipykernel)",
   "language": "python",
   "name": "python3"
  },
  "language_info": {
   "codemirror_mode": {
    "name": "ipython",
    "version": 3
   },
   "file_extension": ".py",
   "mimetype": "text/x-python",
   "name": "python",
   "nbconvert_exporter": "python",
   "pygments_lexer": "ipython3",
   "version": "3.11.4"
  }
 },
 "nbformat": 4,
 "nbformat_minor": 2
}
